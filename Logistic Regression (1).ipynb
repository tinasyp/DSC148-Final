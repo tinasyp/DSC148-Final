{
 "cells": [
  {
   "cell_type": "code",
   "execution_count": 3,
   "metadata": {},
   "outputs": [],
   "source": [
    "import numpy as np\n",
    "import matplotlib.pyplot as plt\n",
    "from sklearn import datasets\n",
    "import pandas as pd"
   ]
  },
  {
   "cell_type": "code",
   "execution_count": 4,
   "metadata": {},
   "outputs": [],
   "source": [
    "def min_max_normalize(lst):\n",
    "    \"\"\"\n",
    "        Helper function for movielens dataset, not useful for discrete multi class clasification.\n",
    "\n",
    "        Return:\n",
    "        \n",
    "        Normalized list x, in range [0, 1]\n",
    "    \"\"\"\n",
    "    maximum = max(lst)\n",
    "    minimum = min(lst)\n",
    "    toreturn = []\n",
    "    for i in range(len(lst)):\n",
    "        toreturn.append((lst[i]- minimum)/ (maximum - minimum))\n",
    "    return toreturn"
   ]
  },
  {
   "cell_type": "code",
   "execution_count": 5,
   "metadata": {},
   "outputs": [],
   "source": [
    "def z_standardize(X_inp):\n",
    "    \"\"\"\n",
    "        Z-score Standardization.\n",
    "        Standardize the feature matrix, and store the standarize rule.\n",
    "\n",
    "        Parameter:\n",
    "        X_inp: Input feature matrix.\n",
    "\n",
    "        Return:\n",
    "        Standardized feature matrix.\n",
    "    \"\"\"\n",
    "    \n",
    "    toreturn = X_inp.copy()\n",
    "    for i in range(X_inp.shape[1]):\n",
    "        std = np.std(X_inp[:, i])               # ------ Find the standard deviation of the feature\n",
    "        mean = np.mean(X_inp[:, i])             # ------ Find the mean value of the feature\n",
    "        temp = []\n",
    "        for j in np.array(X_inp[:, i]):\n",
    "            \n",
    "            \"\"\"    \n",
    "                #TODO: 1. implement the standardize function\n",
    "            \"\"\"\n",
    "            temp.append((j-mean)/std)\n",
    "            \n",
    "        toreturn[:, i] = temp\n",
    "    return toreturn"
   ]
  },
  {
   "cell_type": "code",
   "execution_count": 6,
   "metadata": {},
   "outputs": [],
   "source": [
    "def sigmoid(x):\n",
    "    \"\"\" \n",
    "        Sigmoid Function\n",
    "\n",
    "        Return:\n",
    "        transformed x.\n",
    "    \"\"\"\n",
    "    \"\"\"    \n",
    "        #TODO: 2. implement the sigmoid function\n",
    "    \"\"\"\n",
    "    return 1 / (1 + np.exp(-x))"
   ]
  },
  {
   "cell_type": "code",
   "execution_count": 7,
   "metadata": {},
   "outputs": [],
   "source": [
    "def logistic_loss(y_true, y_hat):\n",
    "    \"\"\"\n",
    "        Calculate the logistic loss.\n",
    "\n",
    "        Parameter:\n",
    "            y_true: Matrix or 2-D array. True target value.\n",
    "            y_hat: Matrix or 2-D array. Predicted target value.\n",
    "\n",
    "        Return:\n",
    "            logistic loss\n",
    "    \"\"\"\n",
    "\n",
    "    n = len(y_true)\n",
    "    loss = -np.sum(y_true * np.log(y_hat) + (1 - y_true) * np.log(1 - y_hat))\n",
    "\n",
    "    return loss"
   ]
  },
  {
   "cell_type": "code",
   "execution_count": 78,
   "metadata": {},
   "outputs": [],
   "source": [
    "class Logistic_Regression():\n",
    "    \n",
    "    def __init__(self):\n",
    "        \"\"\"\n",
    "            Some initializations, if neccesary\n",
    "        \"\"\"\n",
    "        \n",
    "        self.model_name = 'Logistic Regression'\n",
    "    \n",
    "    def fit(self, X_train, y_train):\n",
    "        \"\"\"\n",
    "            Save the datasets in our model, and do normalization to y_train\n",
    "            \n",
    "            Parameter:\n",
    "                X_train: Matrix or 2-D array. Input feature matrix.\n",
    "                Y_train: Matrix or 2-D array. Input target value.\n",
    "        \"\"\"\n",
    "        \n",
    "        self.X = X_train\n",
    "        self.y = y_train\n",
    "        \n",
    "        count = 0\n",
    "        uni = np.unique(y_train)\n",
    "        for y in y_train:\n",
    "            if y == min(uni):\n",
    "                self.y[count] = -1\n",
    "            else:\n",
    "                self.y[count] = 1\n",
    "            count += 1        \n",
    "        \n",
    "        n,m = X_train.shape\n",
    "        self.theta = np.zeros(m)\n",
    "        self.b = 0\n",
    "    \n",
    "    def gradient(self, X_inp, y_inp, theta, b):\n",
    "        \"\"\"\n",
    "            Calculate the grandient of Weight and Bias, given sigmoid_yhat, true label, and data\n",
    "\n",
    "            Parameter:\n",
    "                X_inp: Matrix or 2-D array. Input feature matrix.\n",
    "                y_inp: Matrix or 2-D array. Input target value.\n",
    "                theta: Matrix or 1-D array. Weight matrix.\n",
    "                b: int. Bias.\n",
    "\n",
    "            Return:\n",
    "                grad_theta: gradient with respect to theta\n",
    "                grad_b: gradient with respect to b\n",
    "\n",
    "        NOTE: There are several ways of implementing the gradient. We are merely providing you one way\n",
    "        of doing it. Feel free to change the code and implement the way you want.\n",
    "        \"\"\"\n",
    "        grad_b = 0\n",
    "        grad_theta = 0\n",
    "        \n",
    "        \"\"\"\n",
    "            TODO: 3. Update grad_b and grad_theta using the Sigmoid function\n",
    "        \"\"\"\n",
    "#         for (xi, yi) in zip(X_inp, y_inp):\n",
    "#             z = np.dot(xi, theta) + b\n",
    "#             sigmoid_yhat = sigmoid(z)\n",
    "#             grad_b += (sigmoid_yhat - yi)\n",
    "#             grad_theta += (sigmoid_yhat - yi) * xi\n",
    "#         grad_b/=len(y_inp)\n",
    "#         grad_theta/=len(y_inp)\n",
    "#         return grad_theta, grad_b\n",
    "        z = np.dot(X_inp, theta) + b\n",
    "        y_hat = sigmoid(z)\n",
    "        error = y_inp - y_hat\n",
    "        grad_theta = -np.dot(X_inp.T, error)\n",
    "        grad_b = -np.sum(error) \n",
    "        return grad_theta, grad_b\n",
    "\n",
    "\n",
    "    def gradient_descent_logistic(self, alpha, num_pass, early_stop=0, standardized = True):\n",
    "        \"\"\"\n",
    "            Logistic Regression with gradient descent method\n",
    "\n",
    "            Parameter:\n",
    "                alpha: (Hyper Parameter) Learning rate.\n",
    "                num_pass: Number of iteration\n",
    "                early_stop: (Hyper Parameter) Least improvement error allowed before stop. \n",
    "                            If improvement is less than the given value, then terminate the function and store the coefficents.\n",
    "                            default = 0.\n",
    "                standardized: bool, determine if we standardize the feature matrix.\n",
    "                \n",
    "            Return:\n",
    "                self.theta: theta after training\n",
    "                self.b: b after training\n",
    "        \"\"\"\n",
    "        \n",
    "        if standardized:\n",
    "            self.X = z_standardize(self.X)\n",
    "        \n",
    "        n, m = self.X.shape\n",
    "        \n",
    "\n",
    "        for i in range(num_pass):    \n",
    "            \n",
    "            \"\"\"\n",
    "                TODO: 4. Modify the following code to implement gradient descent algorithm\n",
    "            \"\"\"\n",
    "            grad_theta, grad_b = self.gradient(self.X, self.y, self.theta, self.b)\n",
    "            temp_theta = self.theta - alpha * grad_theta\n",
    "            temp_b = self.b - alpha * grad_b\n",
    "\n",
    "            \"\"\"\n",
    "                TODO: 5. Modify the following code to implement early Stop Mechanism (use Logistic Loss when calculating error)\n",
    "            \"\"\" \n",
    "            previous_y_hat = sigmoid(np.dot(self.X, self.theta) + self.b)\n",
    "            temp_y_hat = sigmoid(np.dot(self.X, temp_theta) + temp_b)\n",
    "#             pre_error = -np.mean(self.y * np.log(previous_y_hat) + (1 - self.y) * np.log(1 - previous_y_hat))\n",
    "#             temp_error = -np.mean(self.y * np.log(temp_y_hat) + (1 - self.y) * np.log(1 - temp_y_hat))\n",
    "            pre_error = logistic_loss(self.y,previous_y_hat)\n",
    "            temp_error = logistic_loss(self.y,temp_y_hat)\n",
    "            if (abs(pre_error - temp_error) < early_stop) | (abs(abs(pre_error - temp_error) / pre_error) < early_stop):\n",
    "                return temp_theta, temp_b\n",
    "            \n",
    "\n",
    "            self.theta = temp_theta\n",
    "            self.b = temp_b\n",
    "        return self.theta, self.b\n",
    "    \n",
    "    def predict_ind(self, x: list):\n",
    "        \"\"\"\n",
    "            Predict the most likely class label of one test instance based on its feature vector x.\n",
    "\n",
    "            Parameter:\n",
    "            x: Matrix, array or list. Input feature point.\n",
    "            \n",
    "            Return:\n",
    "                p: prediction of given data point\n",
    "        \"\"\"\n",
    "        \n",
    "        \"\"\"\n",
    "            TODO: 7. Implement the prediction function\n",
    "        \"\"\"\n",
    "        p = sigmoid(np.dot(x, self.theta) + self.b)                 # -------- calculate probability (you can use the sigmoid function)\n",
    "        \n",
    "        return p\n",
    "    \n",
    "    def predict(self, X):\n",
    "        \"\"\"\n",
    "            X is a matrix or 2-D numpy array, represnting testing instances. \n",
    "            Each testing instance is a feature vector. \n",
    "            \n",
    "            Parameter:\n",
    "            x: Matrix, array or list. Input feature point.\n",
    "            \n",
    "            Return:\n",
    "                p: prediction of given data matrix\n",
    "        \"\"\"\n",
    "        \n",
    "        \"\"\"\n",
    "            TODO: 8. Revise the following for-loop to call predict_ind to get predictions.\n",
    "        \"\"\"\n",
    "        \n",
    "        ret = [self.predict_ind(x) for x in X]                # -------- Use predict_ind to generate the prediction list\n",
    "        return ret"
   ]
  },
  {
   "cell_type": "code",
   "execution_count": 79,
   "metadata": {},
   "outputs": [],
   "source": [
    "url_Wine = 'https://archive.ics.uci.edu/ml/machine-learning-databases/wine-quality/winequality-red.csv'\n",
    "#names = ['f_acid', 'v_acid', 'c_acid', 'sugar', 'chlorides', 'f_SO2', 't_SO2', 'density', 'ph', 'sulphates', 'alcohol', 'quality']\n",
    "wine = pd.read_csv(url_Wine, delimiter=';')"
   ]
  },
  {
   "cell_type": "code",
   "execution_count": 80,
   "metadata": {},
   "outputs": [
    {
     "data": {
      "text/html": [
       "<div>\n",
       "<style scoped>\n",
       "    .dataframe tbody tr th:only-of-type {\n",
       "        vertical-align: middle;\n",
       "    }\n",
       "\n",
       "    .dataframe tbody tr th {\n",
       "        vertical-align: top;\n",
       "    }\n",
       "\n",
       "    .dataframe thead th {\n",
       "        text-align: right;\n",
       "    }\n",
       "</style>\n",
       "<table border=\"1\" class=\"dataframe\">\n",
       "  <thead>\n",
       "    <tr style=\"text-align: right;\">\n",
       "      <th></th>\n",
       "      <th>fixed acidity</th>\n",
       "      <th>volatile acidity</th>\n",
       "      <th>citric acid</th>\n",
       "      <th>residual sugar</th>\n",
       "      <th>chlorides</th>\n",
       "      <th>free sulfur dioxide</th>\n",
       "      <th>total sulfur dioxide</th>\n",
       "      <th>density</th>\n",
       "      <th>pH</th>\n",
       "      <th>sulphates</th>\n",
       "      <th>alcohol</th>\n",
       "      <th>quality</th>\n",
       "    </tr>\n",
       "  </thead>\n",
       "  <tbody>\n",
       "    <tr>\n",
       "      <th>0</th>\n",
       "      <td>7.4</td>\n",
       "      <td>0.70</td>\n",
       "      <td>0.00</td>\n",
       "      <td>1.9</td>\n",
       "      <td>0.076</td>\n",
       "      <td>11.0</td>\n",
       "      <td>34.0</td>\n",
       "      <td>0.99780</td>\n",
       "      <td>3.51</td>\n",
       "      <td>0.56</td>\n",
       "      <td>9.4</td>\n",
       "      <td>5</td>\n",
       "    </tr>\n",
       "    <tr>\n",
       "      <th>1</th>\n",
       "      <td>7.8</td>\n",
       "      <td>0.88</td>\n",
       "      <td>0.00</td>\n",
       "      <td>2.6</td>\n",
       "      <td>0.098</td>\n",
       "      <td>25.0</td>\n",
       "      <td>67.0</td>\n",
       "      <td>0.99680</td>\n",
       "      <td>3.20</td>\n",
       "      <td>0.68</td>\n",
       "      <td>9.8</td>\n",
       "      <td>5</td>\n",
       "    </tr>\n",
       "    <tr>\n",
       "      <th>2</th>\n",
       "      <td>7.8</td>\n",
       "      <td>0.76</td>\n",
       "      <td>0.04</td>\n",
       "      <td>2.3</td>\n",
       "      <td>0.092</td>\n",
       "      <td>15.0</td>\n",
       "      <td>54.0</td>\n",
       "      <td>0.99700</td>\n",
       "      <td>3.26</td>\n",
       "      <td>0.65</td>\n",
       "      <td>9.8</td>\n",
       "      <td>5</td>\n",
       "    </tr>\n",
       "    <tr>\n",
       "      <th>4</th>\n",
       "      <td>7.4</td>\n",
       "      <td>0.70</td>\n",
       "      <td>0.00</td>\n",
       "      <td>1.9</td>\n",
       "      <td>0.076</td>\n",
       "      <td>11.0</td>\n",
       "      <td>34.0</td>\n",
       "      <td>0.99780</td>\n",
       "      <td>3.51</td>\n",
       "      <td>0.56</td>\n",
       "      <td>9.4</td>\n",
       "      <td>5</td>\n",
       "    </tr>\n",
       "    <tr>\n",
       "      <th>5</th>\n",
       "      <td>7.4</td>\n",
       "      <td>0.66</td>\n",
       "      <td>0.00</td>\n",
       "      <td>1.8</td>\n",
       "      <td>0.075</td>\n",
       "      <td>13.0</td>\n",
       "      <td>40.0</td>\n",
       "      <td>0.99780</td>\n",
       "      <td>3.51</td>\n",
       "      <td>0.56</td>\n",
       "      <td>9.4</td>\n",
       "      <td>5</td>\n",
       "    </tr>\n",
       "    <tr>\n",
       "      <th>...</th>\n",
       "      <td>...</td>\n",
       "      <td>...</td>\n",
       "      <td>...</td>\n",
       "      <td>...</td>\n",
       "      <td>...</td>\n",
       "      <td>...</td>\n",
       "      <td>...</td>\n",
       "      <td>...</td>\n",
       "      <td>...</td>\n",
       "      <td>...</td>\n",
       "      <td>...</td>\n",
       "      <td>...</td>\n",
       "    </tr>\n",
       "    <tr>\n",
       "      <th>1592</th>\n",
       "      <td>6.3</td>\n",
       "      <td>0.51</td>\n",
       "      <td>0.13</td>\n",
       "      <td>2.3</td>\n",
       "      <td>0.076</td>\n",
       "      <td>29.0</td>\n",
       "      <td>40.0</td>\n",
       "      <td>0.99574</td>\n",
       "      <td>3.42</td>\n",
       "      <td>0.75</td>\n",
       "      <td>11.0</td>\n",
       "      <td>6</td>\n",
       "    </tr>\n",
       "    <tr>\n",
       "      <th>1593</th>\n",
       "      <td>6.8</td>\n",
       "      <td>0.62</td>\n",
       "      <td>0.08</td>\n",
       "      <td>1.9</td>\n",
       "      <td>0.068</td>\n",
       "      <td>28.0</td>\n",
       "      <td>38.0</td>\n",
       "      <td>0.99651</td>\n",
       "      <td>3.42</td>\n",
       "      <td>0.82</td>\n",
       "      <td>9.5</td>\n",
       "      <td>6</td>\n",
       "    </tr>\n",
       "    <tr>\n",
       "      <th>1595</th>\n",
       "      <td>5.9</td>\n",
       "      <td>0.55</td>\n",
       "      <td>0.10</td>\n",
       "      <td>2.2</td>\n",
       "      <td>0.062</td>\n",
       "      <td>39.0</td>\n",
       "      <td>51.0</td>\n",
       "      <td>0.99512</td>\n",
       "      <td>3.52</td>\n",
       "      <td>0.76</td>\n",
       "      <td>11.2</td>\n",
       "      <td>6</td>\n",
       "    </tr>\n",
       "    <tr>\n",
       "      <th>1596</th>\n",
       "      <td>6.3</td>\n",
       "      <td>0.51</td>\n",
       "      <td>0.13</td>\n",
       "      <td>2.3</td>\n",
       "      <td>0.076</td>\n",
       "      <td>29.0</td>\n",
       "      <td>40.0</td>\n",
       "      <td>0.99574</td>\n",
       "      <td>3.42</td>\n",
       "      <td>0.75</td>\n",
       "      <td>11.0</td>\n",
       "      <td>6</td>\n",
       "    </tr>\n",
       "    <tr>\n",
       "      <th>1598</th>\n",
       "      <td>6.0</td>\n",
       "      <td>0.31</td>\n",
       "      <td>0.47</td>\n",
       "      <td>3.6</td>\n",
       "      <td>0.067</td>\n",
       "      <td>18.0</td>\n",
       "      <td>42.0</td>\n",
       "      <td>0.99549</td>\n",
       "      <td>3.39</td>\n",
       "      <td>0.66</td>\n",
       "      <td>11.0</td>\n",
       "      <td>6</td>\n",
       "    </tr>\n",
       "  </tbody>\n",
       "</table>\n",
       "<p>1319 rows × 12 columns</p>\n",
       "</div>"
      ],
      "text/plain": [
       "      fixed acidity  volatile acidity  citric acid  residual sugar  chlorides  \\\n",
       "0               7.4              0.70         0.00             1.9      0.076   \n",
       "1               7.8              0.88         0.00             2.6      0.098   \n",
       "2               7.8              0.76         0.04             2.3      0.092   \n",
       "4               7.4              0.70         0.00             1.9      0.076   \n",
       "5               7.4              0.66         0.00             1.8      0.075   \n",
       "...             ...               ...          ...             ...        ...   \n",
       "1592            6.3              0.51         0.13             2.3      0.076   \n",
       "1593            6.8              0.62         0.08             1.9      0.068   \n",
       "1595            5.9              0.55         0.10             2.2      0.062   \n",
       "1596            6.3              0.51         0.13             2.3      0.076   \n",
       "1598            6.0              0.31         0.47             3.6      0.067   \n",
       "\n",
       "      free sulfur dioxide  total sulfur dioxide  density    pH  sulphates  \\\n",
       "0                    11.0                  34.0  0.99780  3.51       0.56   \n",
       "1                    25.0                  67.0  0.99680  3.20       0.68   \n",
       "2                    15.0                  54.0  0.99700  3.26       0.65   \n",
       "4                    11.0                  34.0  0.99780  3.51       0.56   \n",
       "5                    13.0                  40.0  0.99780  3.51       0.56   \n",
       "...                   ...                   ...      ...   ...        ...   \n",
       "1592                 29.0                  40.0  0.99574  3.42       0.75   \n",
       "1593                 28.0                  38.0  0.99651  3.42       0.82   \n",
       "1595                 39.0                  51.0  0.99512  3.52       0.76   \n",
       "1596                 29.0                  40.0  0.99574  3.42       0.75   \n",
       "1598                 18.0                  42.0  0.99549  3.39       0.66   \n",
       "\n",
       "      alcohol  quality  \n",
       "0         9.4        5  \n",
       "1         9.8        5  \n",
       "2         9.8        5  \n",
       "4         9.4        5  \n",
       "5         9.4        5  \n",
       "...       ...      ...  \n",
       "1592     11.0        6  \n",
       "1593      9.5        6  \n",
       "1595     11.2        6  \n",
       "1596     11.0        6  \n",
       "1598     11.0        6  \n",
       "\n",
       "[1319 rows x 12 columns]"
      ]
     },
     "execution_count": 80,
     "metadata": {},
     "output_type": "execute_result"
    }
   ],
   "source": [
    "wine5 = wine.loc[wine.quality == 5]\n",
    "wine6 = wine.loc[wine.quality == 6]\n",
    "wineall = pd.concat([wine5,wine6])\n",
    "wineall"
   ]
  },
  {
   "cell_type": "code",
   "execution_count": 81,
   "metadata": {},
   "outputs": [],
   "source": [
    "X = np.array(wineall.iloc[:,:10])\n",
    "Y = np.array(wineall.quality)"
   ]
  },
  {
   "cell_type": "code",
   "execution_count": 82,
   "metadata": {},
   "outputs": [],
   "source": [
    "count = 0\n",
    "for y in Y:\n",
    "    if y == 5:\n",
    "        Y[count] = -1\n",
    "    else:\n",
    "        Y[count] = 1\n",
    "    count += 1"
   ]
  },
  {
   "cell_type": "code",
   "execution_count": 83,
   "metadata": {},
   "outputs": [],
   "source": [
    "logit = Logistic_Regression()\n",
    "logit.fit(X, Y)"
   ]
  },
  {
   "cell_type": "code",
   "execution_count": 84,
   "metadata": {},
   "outputs": [
    {
     "name": "stderr",
     "output_type": "stream",
     "text": [
      "/var/folders/ch/x5wqc8950gz_6nsybywzchrh0000gn/T/ipykernel_36071/1281312516.py:14: RuntimeWarning: divide by zero encountered in log\n",
      "  loss = -np.sum(y_true * np.log(y_hat) + (1 - y_true) * np.log(1 - y_hat))\n",
      "/var/folders/ch/x5wqc8950gz_6nsybywzchrh0000gn/T/ipykernel_36071/1281312516.py:14: RuntimeWarning: invalid value encountered in multiply\n",
      "  loss = -np.sum(y_true * np.log(y_hat) + (1 - y_true) * np.log(1 - y_hat))\n",
      "/var/folders/ch/x5wqc8950gz_6nsybywzchrh0000gn/T/ipykernel_36071/677543645.py:11: RuntimeWarning: overflow encountered in exp\n",
      "  return 1 / (1 + np.exp(-x))\n",
      "/Users/yupeisun/opt/anaconda3/lib/python3.9/site-packages/numpy/core/fromnumeric.py:86: RuntimeWarning: invalid value encountered in reduce\n",
      "  return ufunc.reduce(obj, axis, dtype, out, **passkwargs)\n"
     ]
    }
   ],
   "source": [
    "g = logit.gradient_descent_logistic(0.001, 10000)"
   ]
  },
  {
   "cell_type": "code",
   "execution_count": 85,
   "metadata": {},
   "outputs": [],
   "source": [
    "w, b = g"
   ]
  },
  {
   "cell_type": "code",
   "execution_count": 86,
   "metadata": {},
   "outputs": [
    {
     "data": {
      "text/plain": [
       "(array([  398.41682565, -1096.69732389,   -84.11435186,   137.02982506,\n",
       "         -485.38897091,    97.98909252, -1696.28462547,  -753.98008483,\n",
       "          456.15498662,   888.194281  ]),\n",
       " -2458.977546990029)"
      ]
     },
     "execution_count": 86,
     "metadata": {},
     "output_type": "execute_result"
    }
   ],
   "source": [
    "g"
   ]
  },
  {
   "cell_type": "code",
   "execution_count": 87,
   "metadata": {},
   "outputs": [],
   "source": [
    "hat = np.array(w.dot(z_standardize(X).T) + b)"
   ]
  },
  {
   "cell_type": "code",
   "execution_count": 88,
   "metadata": {},
   "outputs": [
    {
     "name": "stderr",
     "output_type": "stream",
     "text": [
      "/var/folders/ch/x5wqc8950gz_6nsybywzchrh0000gn/T/ipykernel_36071/677543645.py:11: RuntimeWarning: overflow encountered in exp\n",
      "  return 1 / (1 + np.exp(-x))\n"
     ]
    },
    {
     "data": {
      "text/plain": [
       "array([0.00000000e+000, 0.00000000e+000, 0.00000000e+000, ...,\n",
       "       0.00000000e+000, 4.08877102e-280, 1.12903177e-004])"
      ]
     },
     "execution_count": 88,
     "metadata": {},
     "output_type": "execute_result"
    }
   ],
   "source": [
    "hat1 = sigmoid(hat)\n",
    "hat1"
   ]
  },
  {
   "cell_type": "code",
   "execution_count": 89,
   "metadata": {},
   "outputs": [
    {
     "data": {
      "text/plain": [
       "795"
      ]
     },
     "execution_count": 89,
     "metadata": {},
     "output_type": "execute_result"
    }
   ],
   "source": [
    "count = 0\n",
    "for i in range(len(hat)):\n",
    "    if hat1[i] < 0.5:\n",
    "        if Y[i] == -1:\n",
    "            count += 1\n",
    "    else:\n",
    "        if Y[i] == 1:\n",
    "            count += 1\n",
    "count"
   ]
  },
  {
   "cell_type": "code",
   "execution_count": 90,
   "metadata": {},
   "outputs": [
    {
     "data": {
      "text/plain": [
       "0.6072782410917361"
      ]
     },
     "execution_count": 90,
     "metadata": {},
     "output_type": "execute_result"
    }
   ],
   "source": [
    "801/1319"
   ]
  },
  {
   "cell_type": "markdown",
   "metadata": {},
   "source": [
    "My own data"
   ]
  },
  {
   "cell_type": "code",
   "execution_count": 91,
   "metadata": {},
   "outputs": [],
   "source": [
    "df = pd.read_csv('diabetes_binary_health_indicators_BRFSS2015.csv')\n",
    "df_clean = df.drop(columns = ['Fruits','AnyHealthcare','Sex','NoDocbcCost'])\n",
    "X = np.array(df.iloc[:, 1:])\n",
    "Y = np.array(df['Diabetes_binary'])"
   ]
  },
  {
   "cell_type": "code",
   "execution_count": 92,
   "metadata": {},
   "outputs": [],
   "source": [
    "count = 0\n",
    "for y in Y:\n",
    "    if y == 1.0:\n",
    "        Y[count] = -1\n",
    "    else:\n",
    "        Y[count] = 1\n",
    "    count += 1"
   ]
  },
  {
   "cell_type": "code",
   "execution_count": 93,
   "metadata": {},
   "outputs": [],
   "source": [
    "logit = Logistic_Regression()\n",
    "logit.fit(X, Y)"
   ]
  },
  {
   "cell_type": "code",
   "execution_count": 103,
   "metadata": {},
   "outputs": [
    {
     "name": "stderr",
     "output_type": "stream",
     "text": [
      "/var/folders/ch/x5wqc8950gz_6nsybywzchrh0000gn/T/ipykernel_36071/1281312516.py:14: RuntimeWarning: divide by zero encountered in log\n",
      "  loss = -np.sum(y_true * np.log(y_hat) + (1 - y_true) * np.log(1 - y_hat))\n",
      "/var/folders/ch/x5wqc8950gz_6nsybywzchrh0000gn/T/ipykernel_36071/1281312516.py:14: RuntimeWarning: invalid value encountered in multiply\n",
      "  loss = -np.sum(y_true * np.log(y_hat) + (1 - y_true) * np.log(1 - y_hat))\n",
      "/var/folders/ch/x5wqc8950gz_6nsybywzchrh0000gn/T/ipykernel_36071/677543645.py:11: RuntimeWarning: overflow encountered in exp\n",
      "  return 1 / (1 + np.exp(-x))\n",
      "/Users/yupeisun/opt/anaconda3/lib/python3.9/site-packages/numpy/core/fromnumeric.py:86: RuntimeWarning: invalid value encountered in reduce\n",
      "  return ufunc.reduce(obj, axis, dtype, out, **passkwargs)\n"
     ]
    },
    {
     "data": {
      "text/plain": [
       "(array([-21.39993916, -18.5523915 , -17.39593164,  -9.77192725,\n",
       "         -8.93513449, -18.30472478, -26.76561094,   9.34538913,\n",
       "         -2.13500047,  -1.09241708,   9.2704025 ,  -3.62026529,\n",
       "         -3.70970653, -36.39431695, -11.55516597, -22.77958956,\n",
       "        -26.6968044 ,  -3.36234408, -24.77381339,   5.72381706,\n",
       "         14.30216026]),\n",
       " 1.9597663304855786)"
      ]
     },
     "execution_count": 103,
     "metadata": {},
     "output_type": "execute_result"
    }
   ],
   "source": [
    "g = logit.gradient_descent_logistic(0.001, 10000)\n",
    "g"
   ]
  },
  {
   "cell_type": "code",
   "execution_count": 95,
   "metadata": {},
   "outputs": [],
   "source": [
    "w, b = g"
   ]
  },
  {
   "cell_type": "code",
   "execution_count": 104,
   "metadata": {},
   "outputs": [
    {
     "data": {
      "text/plain": [
       "array([-36.915243  , 239.49568536,  35.6507856 , ..., 135.927575  ,\n",
       "        53.48570481,  13.67614433])"
      ]
     },
     "execution_count": 104,
     "metadata": {},
     "output_type": "execute_result"
    }
   ],
   "source": [
    "hat = np.array(w.dot(z_standardize(X).T) + b)\n",
    "hat"
   ]
  },
  {
   "cell_type": "code",
   "execution_count": 101,
   "metadata": {},
   "outputs": [
    {
     "data": {
      "text/plain": [
       "array([9.28781732e-17, 1.00000000e+00, 1.00000000e+00, ...,\n",
       "       1.00000000e+00, 1.00000000e+00, 9.99998850e-01])"
      ]
     },
     "execution_count": 101,
     "metadata": {},
     "output_type": "execute_result"
    }
   ],
   "source": [
    "hat1 = sigmoid(hat)"
   ]
  },
  {
   "cell_type": "code",
   "execution_count": 98,
   "metadata": {},
   "outputs": [
    {
     "data": {
      "text/plain": [
       "202164"
      ]
     },
     "execution_count": 98,
     "metadata": {},
     "output_type": "execute_result"
    }
   ],
   "source": [
    "count = 0\n",
    "for i in range(len(hat)):\n",
    "    if hat1[i] < 0.5:\n",
    "        if Y[i] == -1:\n",
    "            count += 1\n",
    "    else:\n",
    "        if Y[i] == 1:\n",
    "            count += 1\n",
    "count"
   ]
  },
  {
   "cell_type": "code",
   "execution_count": 99,
   "metadata": {},
   "outputs": [
    {
     "data": {
      "text/plain": [
       "0.7969252601702933"
      ]
     },
     "execution_count": 99,
     "metadata": {},
     "output_type": "execute_result"
    }
   ],
   "source": [
    "count/len(Y)"
   ]
  },
  {
   "cell_type": "code",
   "execution_count": 100,
   "metadata": {},
   "outputs": [],
   "source": [
    "from sklearn.metrics import classification_report"
   ]
  },
  {
   "cell_type": "code",
   "execution_count": null,
   "metadata": {},
   "outputs": [],
   "source": []
  }
 ],
 "metadata": {
  "kernelspec": {
   "display_name": "Python 3 (ipykernel)",
   "language": "python",
   "name": "python3"
  },
  "language_info": {
   "codemirror_mode": {
    "name": "ipython",
    "version": 3
   },
   "file_extension": ".py",
   "mimetype": "text/x-python",
   "name": "python",
   "nbconvert_exporter": "python",
   "pygments_lexer": "ipython3",
   "version": "3.9.12"
  }
 },
 "nbformat": 4,
 "nbformat_minor": 2
}
